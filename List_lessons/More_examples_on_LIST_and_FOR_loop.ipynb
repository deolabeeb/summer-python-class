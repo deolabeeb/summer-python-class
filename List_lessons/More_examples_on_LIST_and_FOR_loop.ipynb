{
  "cells": [
    {
      "cell_type": "code",
      "execution_count": 11,
      "metadata": {
        "colab": {
          "base_uri": "https://localhost:8080/"
        },
        "id": "SYg7tkNk7MQ7",
        "outputId": "fbdc6524-2ab1-41e4-829c-752a36b9facc"
      },
      "outputs": [
        {
          "name": "stdout",
          "output_type": "stream",
          "text": [
            "apple, banana, cherry, "
          ]
        }
      ],
      "source": [
        "thislist = [\"apple\", \"banana\", \"cherry\"]\n",
        "for x in thislist:\n",
        "  print(x, end=\", \")"
      ]
    },
    {
      "cell_type": "code",
      "execution_count": 20,
      "metadata": {
        "colab": {
          "base_uri": "https://localhost:8080/"
        },
        "id": "zpInHjKL7nf6",
        "outputId": "ff516b58-542d-4d47-d711-b1db020e60a1"
      },
      "outputs": [
        {
          "name": "stdout",
          "output_type": "stream",
          "text": [
            "b Balabluuu\n",
            "a Ayakata\n",
            "n Balabluuu\n",
            "a Ayakata\n",
            "n Balabluuu\n",
            "a Ayakata\n"
          ]
        }
      ],
      "source": [
        "# if a is found in \"banana\", print \"Ayakata\", else print \"Balabluuu\"\n",
        "for x in \"banana\":\n",
        "  if x == \"a\":\n",
        "    print(x, \"Ayakata\")\n",
        "  else:\n",
        "    print(x, \"Balabluuu\")"
      ]
    },
    {
      "cell_type": "code",
      "execution_count": 23,
      "metadata": {
        "colab": {
          "base_uri": "https://localhost:8080/"
        },
        "id": "V-tPQHbl_OJ9",
        "outputId": "cf92db37-e736-41b0-b2b0-6bf608cbf0e9"
      },
      "outputs": [
        {
          "name": "stdout",
          "output_type": "stream",
          "text": [
            "M Bravo\n",
            "i Emilokan\n",
            "s Emilokan\n",
            "s Emilokan\n",
            "  Emilokan\n",
            "M Bravo\n",
            "a Emilokan\n",
            "h Emilokan\n",
            "m Bravo\n",
            "o Emilokan\n",
            "o Emilokan\n",
            "d Emilokan\n",
            "a Emilokan\n",
            "h Emilokan\n"
          ]
        }
      ],
      "source": [
        "# if \"m\" is found in the string, print \"Bravo\", else print \"Emilokan\"\n",
        "# Ensure \"m\" is also equivalent to \"M\"\n",
        "my_string = \"Miss Mahmoodah\"\n",
        "for x in my_string:\n",
        "  if x == \"m\":\n",
        "    print(x, \"Bravo\")\n",
        "  elif x == \"M\":\n",
        "    print(x, \"Bravo\")\n",
        "  else:\n",
        "    print(x, \"Emilokan\")"
      ]
    },
    {
      "cell_type": "code",
      "execution_count": 24,
      "metadata": {
        "colab": {
          "base_uri": "https://localhost:8080/",
          "height": 36
        },
        "id": "1nM2PlkQE0lC",
        "outputId": "e71c1e2a-7090-4b10-e716-f92955133893"
      },
      "outputs": [
        {
          "data": {
            "application/vnd.google.colaboratory.intrinsic+json": {
              "type": "string"
            },
            "text/plain": [
              "'h'"
            ]
          },
          "execution_count": 24,
          "metadata": {},
          "output_type": "execute_result"
        }
      ],
      "source": [
        "x"
      ]
    },
    {
      "cell_type": "code",
      "execution_count": 25,
      "metadata": {
        "colab": {
          "base_uri": "https://localhost:8080/"
        },
        "id": "v5KNRpC-K85l",
        "outputId": "58c5e3cf-677e-4c5e-b657-4467a149488b"
      },
      "outputs": [
        {
          "name": "stdout",
          "output_type": "stream",
          "text": [
            "M Bravo\n",
            "i Emilokan\n",
            "s Emilokan\n",
            "s Emilokan\n",
            "  Emilokan\n",
            "M Bravo\n",
            "a Emilokan\n",
            "h Emilokan\n",
            "m Bravo\n",
            "o Emilokan\n",
            "o Emilokan\n",
            "d Emilokan\n",
            "a Emilokan\n",
            "h Emilokan\n"
          ]
        }
      ],
      "source": [
        "# if \"m\" is found in the string, print \"Bravo\", else print \"Emilokan\"\n",
        "# Ensure \"m\" is also equivalent to \"M\"\n",
        "my_string = \"Miss Mahmoodah\"\n",
        "for x in my_string:\n",
        "  if x == \"m\" or x == \"M\":\n",
        "    print(x, \"Bravo\")\n",
        "  else:\n",
        "    print(x, \"Emilokan\")"
      ]
    },
    {
      "cell_type": "code",
      "execution_count": 28,
      "metadata": {
        "colab": {
          "base_uri": "https://localhost:8080/"
        },
        "id": "bu_vwpC5K82R",
        "outputId": "9ef241b2-c5dd-4680-feb1-49bf99529843"
      },
      "outputs": [
        {
          "name": "stdout",
          "output_type": "stream",
          "text": [
            "m Bravo\n",
            "u Emilokan\n",
            "' Emilokan\n",
            "a Emilokan\n",
            "m Bravo\n",
            "m Bravo\n",
            "a Emilokan\n",
            "r Emilokan\n",
            "  Emilokan\n",
            "g Emilokan\n",
            "a Emilokan\n",
            "d Emilokan\n",
            "d Emilokan\n",
            "a Emilokan\n",
            "f Emilokan\n",
            "i Emilokan\n",
            "i\n"
          ]
        }
      ],
      "source": [
        "# if \"m\" is found in the string, print \"Bravo\", else print \"Emilokan\"\n",
        "# Ensure \"m\" is also equivalent to \"M\"\n",
        "my_string = \"Mu'ammar Gaddafi\"\n",
        "for x in my_string.lower():\n",
        "  if x == \"m\":\n",
        "    print(x, \"Bravo\")\n",
        "  else:\n",
        "    print(x, \"Emilokan\")\n",
        "\n",
        "print(x)"
      ]
    },
    {
      "cell_type": "code",
      "execution_count": null,
      "metadata": {
        "colab": {
          "base_uri": "https://localhost:8080/"
        },
        "id": "WC_DGrSrK8zi",
        "outputId": "03f242f3-12cd-4299-92b8-363027eb8f1f"
      },
      "outputs": [
        {
          "name": "stdout",
          "output_type": "stream",
          "text": [
            "m, I have found your treasure\n"
          ]
        }
      ],
      "source": [
        "# if \"m\" is found in the string, say \"I have found your treasure\". Then stop the search.\n",
        "# Ensure \"m\" is also equivalent to \"M\"\n",
        "# If no \"m\" is found, print \"No treasure on this island\"\n",
        "my_string = \"Salaamah\"\n",
        "for x in my_string.lower():\n",
        "  if x == \"m\":\n",
        "    result = f\"{x}, I have found your treasure\"\n",
        "    break\n",
        "  else:\n",
        "    result = f\"{x}, No treasure on this island\"\n",
        "\n",
        "print(result)"
      ]
    },
    {
      "cell_type": "code",
      "execution_count": null,
      "metadata": {
        "id": "HH2FYodXK8wQ"
      },
      "outputs": [],
      "source": []
    }
  ],
  "metadata": {
    "colab": {
      "provenance": []
    },
    "kernelspec": {
      "display_name": "Python 3",
      "name": "python3"
    },
    "language_info": {
      "name": "python"
    }
  },
  "nbformat": 4,
  "nbformat_minor": 0
}
