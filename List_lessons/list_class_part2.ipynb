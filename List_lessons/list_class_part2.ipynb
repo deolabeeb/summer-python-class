{
  "nbformat": 4,
  "nbformat_minor": 0,
  "metadata": {
    "colab": {
      "provenance": []
    },
    "kernelspec": {
      "name": "python3",
      "display_name": "Python 3"
    },
    "language_info": {
      "name": "python"
    }
  },
  "cells": [
    {
      "cell_type": "code",
      "execution_count": null,
      "metadata": {
        "colab": {
          "base_uri": "https://localhost:8080/"
        },
        "id": "SYg7tkNk7MQ7",
        "outputId": "fbdc6524-2ab1-41e4-829c-752a36b9facc"
      },
      "outputs": [
        {
          "output_type": "stream",
          "name": "stdout",
          "text": [
            "apple, banana, cherry, "
          ]
        }
      ],
      "source": [
        "thislist = [\"apple\", \"banana\", \"cherry\"]\n",
        "for x in thislist:\n",
        "  print(x, end=\", \")"
      ]
    },
    {
      "cell_type": "code",
      "source": [
        "# if a is found in \"banana\", print \"Ayakata\", else print \"Balabluuu\"\n",
        "for x in \"banana\":\n",
        "  if x == \"a\":\n",
        "    print(x, \"Ayakata\")\n",
        "  else:\n",
        "    print(x, \"Balabluuu\")"
      ],
      "metadata": {
        "colab": {
          "base_uri": "https://localhost:8080/"
        },
        "id": "zpInHjKL7nf6",
        "outputId": "ff516b58-542d-4d47-d711-b1db020e60a1"
      },
      "execution_count": null,
      "outputs": [
        {
          "output_type": "stream",
          "name": "stdout",
          "text": [
            "b Balabluuu\n",
            "a Ayakata\n",
            "n Balabluuu\n",
            "a Ayakata\n",
            "n Balabluuu\n",
            "a Ayakata\n"
          ]
        }
      ]
    },
    {
      "cell_type": "code",
      "source": [
        "# if \"m\" is found in the string, print \"Bravo\", else print \"Emilokan\"\n",
        "# Ensure \"m\" is also equivalent to \"M\"\n",
        "my_string = \"Miss Mahmoodah\"\n",
        "for x in my_string:\n",
        "  if x == \"m\":\n",
        "    print(x, \"Bravo\")\n",
        "  elif x == \"M\":\n",
        "    print(x, \"Bravo\")\n",
        "  else:\n",
        "    print(x, \"Emilokan\")"
      ],
      "metadata": {
        "colab": {
          "base_uri": "https://localhost:8080/"
        },
        "id": "V-tPQHbl_OJ9",
        "outputId": "cf92db37-e736-41b0-b2b0-6bf608cbf0e9"
      },
      "execution_count": null,
      "outputs": [
        {
          "output_type": "stream",
          "name": "stdout",
          "text": [
            "M Bravo\n",
            "i Emilokan\n",
            "s Emilokan\n",
            "s Emilokan\n",
            "  Emilokan\n",
            "M Bravo\n",
            "a Emilokan\n",
            "h Emilokan\n",
            "m Bravo\n",
            "o Emilokan\n",
            "o Emilokan\n",
            "d Emilokan\n",
            "a Emilokan\n",
            "h Emilokan\n"
          ]
        }
      ]
    },
    {
      "cell_type": "code",
      "source": [
        "x"
      ],
      "metadata": {
        "colab": {
          "base_uri": "https://localhost:8080/",
          "height": 36
        },
        "id": "1nM2PlkQE0lC",
        "outputId": "e71c1e2a-7090-4b10-e716-f92955133893"
      },
      "execution_count": null,
      "outputs": [
        {
          "output_type": "execute_result",
          "data": {
            "text/plain": [
              "'h'"
            ],
            "application/vnd.google.colaboratory.intrinsic+json": {
              "type": "string"
            }
          },
          "metadata": {},
          "execution_count": 24
        }
      ]
    },
    {
      "cell_type": "code",
      "source": [
        "# if \"m\" is found in the string, print \"Bravo\", else print \"Emilokan\"\n",
        "# Ensure \"m\" is also equivalent to \"M\"\n",
        "my_string = \"Miss Mahmoodah\"\n",
        "for x in my_string:\n",
        "  if x == \"m\" or x == \"M\":\n",
        "    print(x, \"Bravo\")\n",
        "  else:\n",
        "    print(x, \"Emilokan\")"
      ],
      "metadata": {
        "colab": {
          "base_uri": "https://localhost:8080/"
        },
        "id": "v5KNRpC-K85l",
        "outputId": "58c5e3cf-677e-4c5e-b657-4467a149488b"
      },
      "execution_count": null,
      "outputs": [
        {
          "output_type": "stream",
          "name": "stdout",
          "text": [
            "M Bravo\n",
            "i Emilokan\n",
            "s Emilokan\n",
            "s Emilokan\n",
            "  Emilokan\n",
            "M Bravo\n",
            "a Emilokan\n",
            "h Emilokan\n",
            "m Bravo\n",
            "o Emilokan\n",
            "o Emilokan\n",
            "d Emilokan\n",
            "a Emilokan\n",
            "h Emilokan\n"
          ]
        }
      ]
    },
    {
      "cell_type": "code",
      "source": [
        "# if \"m\" is found in the string, print \"Bravo\", else print \"Emilokan\"\n",
        "# Ensure \"m\" is also equivalent to \"M\"\n",
        "my_string = \"Mu'ammar Gaddafi\"\n",
        "for x in my_string.lower():\n",
        "  if x == \"m\":\n",
        "    print(x, \"Bravo\")\n",
        "  else:\n",
        "    print(x, \"Emilokan\")\n",
        "\n",
        "print(x)"
      ],
      "metadata": {
        "colab": {
          "base_uri": "https://localhost:8080/"
        },
        "id": "bu_vwpC5K82R",
        "outputId": "9ef241b2-c5dd-4680-feb1-49bf99529843"
      },
      "execution_count": null,
      "outputs": [
        {
          "output_type": "stream",
          "name": "stdout",
          "text": [
            "m Bravo\n",
            "u Emilokan\n",
            "' Emilokan\n",
            "a Emilokan\n",
            "m Bravo\n",
            "m Bravo\n",
            "a Emilokan\n",
            "r Emilokan\n",
            "  Emilokan\n",
            "g Emilokan\n",
            "a Emilokan\n",
            "d Emilokan\n",
            "d Emilokan\n",
            "a Emilokan\n",
            "f Emilokan\n",
            "i Emilokan\n",
            "i\n"
          ]
        }
      ]
    },
    {
      "cell_type": "code",
      "source": [
        "# if \"m\" is found in the string, say \"I have found your treasure\". Then stop the search.\n",
        "# Ensure \"m\" is also equivalent to \"M\"\n",
        "# If no \"m\" is found, print \"No treasure on this island\"\n",
        "my_string = \"Salaamah\"\n",
        "for x in my_string.lower():\n",
        "  if x == \"m\":\n",
        "    result = f\"{x}, I have found your treasure\"\n",
        "    break\n",
        "  else:\n",
        "    result = f\"{x}, No treasure on this island\"\n",
        "\n",
        "print(result)"
      ],
      "metadata": {
        "colab": {
          "base_uri": "https://localhost:8080/"
        },
        "id": "WC_DGrSrK8zi",
        "outputId": "03f242f3-12cd-4299-92b8-363027eb8f1f"
      },
      "execution_count": null,
      "outputs": [
        {
          "output_type": "stream",
          "name": "stdout",
          "text": [
            "m, I have found your treasure\n"
          ]
        }
      ]
    },
    {
      "cell_type": "code",
      "source": [],
      "metadata": {
        "id": "HH2FYodXK8wQ"
      },
      "execution_count": null,
      "outputs": []
    },
    {
      "cell_type": "code",
      "source": [
        "thislist = [\"apple\", \"banana\", \"cherry\"]\n",
        "for x in thislist:\n",
        "  print(x, end=\", \")\n"
      ],
      "metadata": {
        "colab": {
          "base_uri": "https://localhost:8080/"
        },
        "id": "HQdGqG-jVL9y",
        "outputId": "c17b8fe1-00ff-497b-c030-73895507424c"
      },
      "execution_count": null,
      "outputs": [
        {
          "output_type": "stream",
          "name": "stdout",
          "text": [
            "apple, banana, cherry, "
          ]
        }
      ]
    },
    {
      "cell_type": "code",
      "source": [
        "fruits = [\"apple\", \"banana\", \"cherry\"]\n",
        "for x in fruits:\n",
        "  if x == \"banana\":\n",
        "    continue\n",
        "  print(x)"
      ],
      "metadata": {
        "colab": {
          "base_uri": "https://localhost:8080/"
        },
        "id": "frDS0dWMVNH7",
        "outputId": "2589a37a-984f-43c2-edad-35cee0662bcb"
      },
      "execution_count": null,
      "outputs": [
        {
          "output_type": "stream",
          "name": "stdout",
          "text": [
            "apple\n",
            "cherry\n"
          ]
        }
      ]
    },
    {
      "cell_type": "markdown",
      "source": [
        "### RANGE"
      ],
      "metadata": {
        "id": "m9BUcd5ZjJlQ"
      }
    },
    {
      "cell_type": "code",
      "source": [
        "for x in range(1, 101):\n",
        "  print(x)"
      ],
      "metadata": {
        "colab": {
          "base_uri": "https://localhost:8080/"
        },
        "id": "vzAY7Ma5hQvm",
        "outputId": "c92be6f6-35fc-4ced-f74d-af1da4838db4"
      },
      "execution_count": null,
      "outputs": [
        {
          "output_type": "stream",
          "name": "stdout",
          "text": [
            "1\n",
            "2\n",
            "3\n",
            "4\n",
            "5\n",
            "6\n",
            "7\n",
            "8\n",
            "9\n",
            "10\n",
            "11\n",
            "12\n",
            "13\n",
            "14\n",
            "15\n",
            "16\n",
            "17\n",
            "18\n",
            "19\n",
            "20\n",
            "21\n",
            "22\n",
            "23\n",
            "24\n",
            "25\n",
            "26\n",
            "27\n",
            "28\n",
            "29\n",
            "30\n",
            "31\n",
            "32\n",
            "33\n",
            "34\n",
            "35\n",
            "36\n",
            "37\n",
            "38\n",
            "39\n",
            "40\n",
            "41\n",
            "42\n",
            "43\n",
            "44\n",
            "45\n",
            "46\n",
            "47\n",
            "48\n",
            "49\n",
            "50\n",
            "51\n",
            "52\n",
            "53\n",
            "54\n",
            "55\n",
            "56\n",
            "57\n",
            "58\n",
            "59\n",
            "60\n",
            "61\n",
            "62\n",
            "63\n",
            "64\n",
            "65\n",
            "66\n",
            "67\n",
            "68\n",
            "69\n",
            "70\n",
            "71\n",
            "72\n",
            "73\n",
            "74\n",
            "75\n",
            "76\n",
            "77\n",
            "78\n",
            "79\n",
            "80\n",
            "81\n",
            "82\n",
            "83\n",
            "84\n",
            "85\n",
            "86\n",
            "87\n",
            "88\n",
            "89\n",
            "90\n",
            "91\n",
            "92\n",
            "93\n",
            "94\n",
            "95\n",
            "96\n",
            "97\n",
            "98\n",
            "99\n",
            "100\n"
          ]
        }
      ]
    },
    {
      "cell_type": "markdown",
      "source": [
        "##### PRINTING EVEN NUMBERS USING RANGE"
      ],
      "metadata": {
        "id": "xqt3uwtcjTvJ"
      }
    },
    {
      "cell_type": "code",
      "source": [
        "for x in range(2, 101, 2):\n",
        "  print(x)"
      ],
      "metadata": {
        "colab": {
          "base_uri": "https://localhost:8080/"
        },
        "id": "HwNW3jQGhQsU",
        "outputId": "8305cc9c-dff7-4bfe-b9da-9ebb0987b104"
      },
      "execution_count": null,
      "outputs": [
        {
          "output_type": "stream",
          "name": "stdout",
          "text": [
            "2\n",
            "4\n",
            "6\n",
            "8\n",
            "10\n",
            "12\n",
            "14\n",
            "16\n",
            "18\n",
            "20\n",
            "22\n",
            "24\n",
            "26\n",
            "28\n",
            "30\n",
            "32\n",
            "34\n",
            "36\n",
            "38\n",
            "40\n",
            "42\n",
            "44\n",
            "46\n",
            "48\n",
            "50\n",
            "52\n",
            "54\n",
            "56\n",
            "58\n",
            "60\n",
            "62\n",
            "64\n",
            "66\n",
            "68\n",
            "70\n",
            "72\n",
            "74\n",
            "76\n",
            "78\n",
            "80\n",
            "82\n",
            "84\n",
            "86\n",
            "88\n",
            "90\n",
            "92\n",
            "94\n",
            "96\n",
            "98\n",
            "100\n"
          ]
        }
      ]
    },
    {
      "cell_type": "code",
      "source": [
        "for x in range(1, 101, 2):\n",
        "  print(x)"
      ],
      "metadata": {
        "colab": {
          "base_uri": "https://localhost:8080/"
        },
        "id": "FOrbMKcGhQow",
        "outputId": "2f5690c9-cc6c-4561-9a11-28d357eb2f5d"
      },
      "execution_count": null,
      "outputs": [
        {
          "output_type": "stream",
          "name": "stdout",
          "text": [
            "1\n",
            "3\n",
            "5\n",
            "7\n",
            "9\n",
            "11\n",
            "13\n",
            "15\n",
            "17\n",
            "19\n",
            "21\n",
            "23\n",
            "25\n",
            "27\n",
            "29\n",
            "31\n",
            "33\n",
            "35\n",
            "37\n",
            "39\n",
            "41\n",
            "43\n",
            "45\n",
            "47\n",
            "49\n",
            "51\n",
            "53\n",
            "55\n",
            "57\n",
            "59\n",
            "61\n",
            "63\n",
            "65\n",
            "67\n",
            "69\n",
            "71\n",
            "73\n",
            "75\n",
            "77\n",
            "79\n",
            "81\n",
            "83\n",
            "85\n",
            "87\n",
            "89\n",
            "91\n",
            "93\n",
            "95\n",
            "97\n",
            "99\n"
          ]
        }
      ]
    },
    {
      "cell_type": "code",
      "source": [
        "for x in range(5, 101, 5):\n",
        "  print(x)"
      ],
      "metadata": {
        "colab": {
          "base_uri": "https://localhost:8080/"
        },
        "id": "nfZfCAjIhQkd",
        "outputId": "3091b189-405f-4b75-b47c-f0b694a405e4"
      },
      "execution_count": null,
      "outputs": [
        {
          "output_type": "stream",
          "name": "stdout",
          "text": [
            "5\n",
            "10\n",
            "15\n",
            "20\n",
            "25\n",
            "30\n",
            "35\n",
            "40\n",
            "45\n",
            "50\n",
            "55\n",
            "60\n",
            "65\n",
            "70\n",
            "75\n",
            "80\n",
            "85\n",
            "90\n",
            "95\n",
            "100\n"
          ]
        }
      ]
    },
    {
      "cell_type": "code",
      "source": [
        "iterations = 1\n",
        "for x in range(1000, 1005):\n",
        "  print(f\"The value of x at iteration {iterations} is {x}\")\n",
        "  iterations = iterations + 1\n",
        "else:\n",
        "  print(\"Finally finished!\")\n",
        "print(f\"Our total iterations are {iterations - 1}\")"
      ],
      "metadata": {
        "colab": {
          "base_uri": "https://localhost:8080/"
        },
        "id": "eEubjZbahQXm",
        "outputId": "f020ec05-5e62-4d25-e902-a67766e7f426"
      },
      "execution_count": 31,
      "outputs": [
        {
          "output_type": "stream",
          "name": "stdout",
          "text": [
            "The value of x at iteration 1 is 1000\n",
            "The value of x at iteration 2 is 1001\n",
            "The value of x at iteration 3 is 1002\n",
            "The value of x at iteration 4 is 1003\n",
            "The value of x at iteration 5 is 1004\n",
            "Finally finished!\n",
            "Our total iterations are 5\n"
          ]
        }
      ]
    },
    {
      "cell_type": "code",
      "source": [
        "for x in range(6):\n",
        "  if x == 3: continue\n",
        "  print(x)\n",
        "else:\n",
        "  print(\"Finally finished!\")"
      ],
      "metadata": {
        "id": "CT8lrON3nY5q",
        "colab": {
          "base_uri": "https://localhost:8080/"
        },
        "outputId": "52e73cbd-e488-47f1-93ff-0ab13bba57f6"
      },
      "execution_count": 33,
      "outputs": [
        {
          "output_type": "stream",
          "name": "stdout",
          "text": [
            "0\n",
            "1\n",
            "2\n",
            "4\n",
            "5\n",
            "Finally finished!\n"
          ]
        }
      ]
    },
    {
      "cell_type": "code",
      "source": [
        "adj = [\"red\", \"big\", \"tasty\", \"Green\"]\n",
        "origin = [\"Nigerian\", \"Palestinian\", \"Meccan\"]\n",
        "fruits = [\"apple\", \"banana\", \"cherry\"]\n",
        "\n",
        "\n",
        "for x in adj:\n",
        "  for y in origin:\n",
        "    for z in fruits:\n",
        "      print(x, y, z)"
      ],
      "metadata": {
        "colab": {
          "base_uri": "https://localhost:8080/"
        },
        "id": "47ei-4da1OTv",
        "outputId": "c3fccd52-e547-494b-ee42-ccd847b46e95"
      },
      "execution_count": 36,
      "outputs": [
        {
          "output_type": "stream",
          "name": "stdout",
          "text": [
            "red Nigerian apple\n",
            "red Nigerian banana\n",
            "red Nigerian cherry\n",
            "red Palestinian apple\n",
            "red Palestinian banana\n",
            "red Palestinian cherry\n",
            "red Meccan apple\n",
            "red Meccan banana\n",
            "red Meccan cherry\n",
            "big Nigerian apple\n",
            "big Nigerian banana\n",
            "big Nigerian cherry\n",
            "big Palestinian apple\n",
            "big Palestinian banana\n",
            "big Palestinian cherry\n",
            "big Meccan apple\n",
            "big Meccan banana\n",
            "big Meccan cherry\n",
            "tasty Nigerian apple\n",
            "tasty Nigerian banana\n",
            "tasty Nigerian cherry\n",
            "tasty Palestinian apple\n",
            "tasty Palestinian banana\n",
            "tasty Palestinian cherry\n",
            "tasty Meccan apple\n",
            "tasty Meccan banana\n",
            "tasty Meccan cherry\n",
            "Green Nigerian apple\n",
            "Green Nigerian banana\n",
            "Green Nigerian cherry\n",
            "Green Palestinian apple\n",
            "Green Palestinian banana\n",
            "Green Palestinian cherry\n",
            "Green Meccan apple\n",
            "Green Meccan banana\n",
            "Green Meccan cherry\n"
          ]
        }
      ]
    },
    {
      "cell_type": "code",
      "source": [
        "for x in [0, 1, 2]:\n",
        "  pass"
      ],
      "metadata": {
        "id": "8vzbm2TR4UUW"
      },
      "execution_count": 39,
      "outputs": []
    },
    {
      "cell_type": "code",
      "source": [
        "fruits = [\"apple\", \"banana\", \"cherry\", \"kiwi\", \"mango\"]\n",
        "new_fruits = []\n",
        "\n",
        "for x in fruits:\n",
        "    new_fruits.append(x)\n",
        "\n",
        "print(new_fruits)\n"
      ],
      "metadata": {
        "colab": {
          "base_uri": "https://localhost:8080/"
        },
        "id": "DpG_5I3S5iJG",
        "outputId": "8065e33e-ce8f-456d-a1bb-4c70dc8ae4fc"
      },
      "execution_count": 59,
      "outputs": [
        {
          "output_type": "stream",
          "name": "stdout",
          "text": [
            "['apple', 'banana', 'cherry', 'kiwi', 'mango']\n"
          ]
        }
      ]
    },
    {
      "cell_type": "code",
      "source": [
        "fruits = [\"apple\", \"banana\", \"cherry\", \"kiwi\", \"mango\"]\n",
        "new_fruits = []\n",
        "\n",
        "new_fruits.append(fruits[0])\n",
        "new_fruits.append(fruits[1])\n",
        "new_fruits.append(fruits[4])\n",
        "\n",
        "\n",
        "print(new_fruits)"
      ],
      "metadata": {
        "colab": {
          "base_uri": "https://localhost:8080/"
        },
        "id": "QT6vyar65iDd",
        "outputId": "86cd5a13-c1e2-4520-c4cf-f3a0cdc72961"
      },
      "execution_count": 49,
      "outputs": [
        {
          "output_type": "stream",
          "name": "stdout",
          "text": [
            "['apple', 'banana', 'mango']\n"
          ]
        }
      ]
    },
    {
      "cell_type": "code",
      "source": [
        "fruits = [\"apple\", \"banana\", \"cherry\", \"kiwi\", \"mango\"]\n",
        "\n",
        "newlist = [x for x in fruits if \"a\" in x]\n",
        "\n",
        "print(newlist)\n"
      ],
      "metadata": {
        "colab": {
          "base_uri": "https://localhost:8080/"
        },
        "id": "JVuH1uWT5iAl",
        "outputId": "062782dc-e113-4797-a761-6cc543c10563"
      },
      "execution_count": 61,
      "outputs": [
        {
          "output_type": "stream",
          "name": "stdout",
          "text": [
            "['apple', 'banana', 'mango']\n"
          ]
        }
      ]
    },
    {
      "cell_type": "code",
      "source": [
        "import random\n",
        "random.randint(1, 17)"
      ],
      "metadata": {
        "colab": {
          "base_uri": "https://localhost:8080/"
        },
        "id": "io0iMNuO5h6t",
        "outputId": "80c735ff-3b79-47e2-d410-17103cc54dad"
      },
      "execution_count": 71,
      "outputs": [
        {
          "output_type": "execute_result",
          "data": {
            "text/plain": [
              "2"
            ]
          },
          "metadata": {},
          "execution_count": 71
        }
      ]
    },
    {
      "cell_type": "code",
      "source": [
        "fruits = [\"apple\", \"banana\", \"cherry\", \"kiwi\", \"mango\", \"blueberry\", \"blackcurrant\"]\n",
        "\n",
        "newlist = [x for x in fruits if \"a\" in x and \"b\" in x]\n",
        "\n",
        "print(newlist)\n"
      ],
      "metadata": {
        "colab": {
          "base_uri": "https://localhost:8080/"
        },
        "id": "gf-P7aHD5h9d",
        "outputId": "0dbd58e5-0265-4e87-e759-ac7fdc1e7fed"
      },
      "execution_count": 85,
      "outputs": [
        {
          "output_type": "stream",
          "name": "stdout",
          "text": [
            "['banana', 'blackcurrant']\n"
          ]
        }
      ]
    },
    {
      "cell_type": "code",
      "source": [
        "newlist = [x for x in fruits if x != \"apple\"]\n",
        "print(newlist)"
      ],
      "metadata": {
        "colab": {
          "base_uri": "https://localhost:8080/"
        },
        "id": "JuVazFt4Rl-Q",
        "outputId": "dbb3254c-57d0-4a92-a429-06065b894220"
      },
      "execution_count": 87,
      "outputs": [
        {
          "output_type": "stream",
          "name": "stdout",
          "text": [
            "['banana', 'cherry', 'kiwi', 'mango', 'blueberry', 'blackcurrant']\n"
          ]
        }
      ]
    },
    {
      "cell_type": "code",
      "source": [
        "newlist = [x for x in range(2,51,2)]\n",
        "print(newlist)"
      ],
      "metadata": {
        "colab": {
          "base_uri": "https://localhost:8080/"
        },
        "id": "3nydkSExWNkD",
        "outputId": "2f9c9f2e-d7e6-4942-dd83-072d5db44bf9"
      },
      "execution_count": 95,
      "outputs": [
        {
          "output_type": "stream",
          "name": "stdout",
          "text": [
            "[2, 4, 6, 8, 10, 12, 14, 16, 18, 20, 22, 24, 26, 28, 30, 32, 34, 36, 38, 40, 42, 44, 46, 48, 50]\n"
          ]
        }
      ]
    },
    {
      "cell_type": "code",
      "source": [
        "newlist"
      ],
      "metadata": {
        "colab": {
          "base_uri": "https://localhost:8080/"
        },
        "id": "nVWhjW05Wdoo",
        "outputId": "944d140e-2d3c-42e9-d1d8-0b0343c24177"
      },
      "execution_count": 96,
      "outputs": [
        {
          "output_type": "execute_result",
          "data": {
            "text/plain": [
              "[2,\n",
              " 4,\n",
              " 6,\n",
              " 8,\n",
              " 10,\n",
              " 12,\n",
              " 14,\n",
              " 16,\n",
              " 18,\n",
              " 20,\n",
              " 22,\n",
              " 24,\n",
              " 26,\n",
              " 28,\n",
              " 30,\n",
              " 32,\n",
              " 34,\n",
              " 36,\n",
              " 38,\n",
              " 40,\n",
              " 42,\n",
              " 44,\n",
              " 46,\n",
              " 48,\n",
              " 50]"
            ]
          },
          "metadata": {},
          "execution_count": 96
        }
      ]
    },
    {
      "cell_type": "code",
      "source": [
        "newlist = [x*10 for x in range(10) if x < 5]\n",
        "newlist"
      ],
      "metadata": {
        "colab": {
          "base_uri": "https://localhost:8080/"
        },
        "id": "iyMH2KaLWd15",
        "outputId": "87e4ceb2-1427-449b-9c6b-38482895de9d"
      },
      "execution_count": 100,
      "outputs": [
        {
          "output_type": "execute_result",
          "data": {
            "text/plain": [
              "[0, 10, 20, 30, 40]"
            ]
          },
          "metadata": {},
          "execution_count": 100
        }
      ]
    },
    {
      "cell_type": "code",
      "source": [
        "newlist = [x.upper() for x in fruits]\n"
      ],
      "metadata": {
        "id": "LPMCI8e6Wd9Y"
      },
      "execution_count": 98,
      "outputs": []
    },
    {
      "cell_type": "code",
      "source": [
        "newlist"
      ],
      "metadata": {
        "colab": {
          "base_uri": "https://localhost:8080/"
        },
        "id": "4DH4S3xrWd_t",
        "outputId": "3a0fcbcc-d6e9-4ec9-c72e-3b54addeebdc"
      },
      "execution_count": 99,
      "outputs": [
        {
          "output_type": "execute_result",
          "data": {
            "text/plain": [
              "['APPLE', 'BANANA', 'CHERRY', 'KIWI', 'MANGO', 'BLUEBERRY', 'BLACKCURRANT']"
            ]
          },
          "metadata": {},
          "execution_count": 99
        }
      ]
    },
    {
      "cell_type": "code",
      "source": [
        "newlist = ['hello' for x in fruits]\n",
        "newlist"
      ],
      "metadata": {
        "colab": {
          "base_uri": "https://localhost:8080/"
        },
        "id": "vhX0taz5WeBo",
        "outputId": "045b4b98-8470-438a-fc7b-b1d5e8b8d86c"
      },
      "execution_count": 101,
      "outputs": [
        {
          "output_type": "execute_result",
          "data": {
            "text/plain": [
              "['hello', 'hello', 'hello', 'hello', 'hello', 'hello', 'hello']"
            ]
          },
          "metadata": {},
          "execution_count": 101
        }
      ]
    },
    {
      "cell_type": "code",
      "source": [],
      "metadata": {
        "id": "G8y51sFxWeDm"
      },
      "execution_count": null,
      "outputs": []
    },
    {
      "cell_type": "code",
      "source": [],
      "metadata": {
        "id": "b6mD1R7NWeF4"
      },
      "execution_count": null,
      "outputs": []
    },
    {
      "cell_type": "code",
      "source": [],
      "metadata": {
        "id": "UHwXeDw-WeIH"
      },
      "execution_count": null,
      "outputs": []
    },
    {
      "cell_type": "code",
      "source": [],
      "metadata": {
        "id": "S7Rk6VxcWeKn"
      },
      "execution_count": null,
      "outputs": []
    },
    {
      "cell_type": "code",
      "source": [],
      "metadata": {
        "id": "3tBmJ-GTWeNi"
      },
      "execution_count": null,
      "outputs": []
    },
    {
      "cell_type": "code",
      "source": [],
      "metadata": {
        "id": "5xSUNfjOWeQp"
      },
      "execution_count": null,
      "outputs": []
    }
  ]
}